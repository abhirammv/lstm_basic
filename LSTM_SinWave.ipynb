{
 "cells": [
  {
   "cell_type": "code",
   "execution_count": 37,
   "metadata": {},
   "outputs": [],
   "source": [
    "from __future__ import print_function\n",
    "import numpy as np\n",
    "import tensorflow as tf\n",
    "import pandas as pd\n",
    "import sys\n",
    "from tensorflow.contrib import rnn"
   ]
  },
  {
   "cell_type": "raw",
   "metadata": {
    "collapsed": true
   },
   "source": [
    "(N,W,F) \n",
    "N - batch_size \n",
    "W - sequence length (window size)\n",
    "F - num_input (num_features) \n"
   ]
  },
  {
   "cell_type": "code",
   "execution_count": 43,
   "metadata": {
    "collapsed": true
   },
   "outputs": [],
   "source": [
    "#Network Parameters \n",
    "nw_parameters = {}\n",
    "nw_parameters['num_timesteps'] = 50\n",
    "nw_parameters['num_input'] = 1 #number of input features\n",
    "nw_parameters['num_hidden'] = 2\n",
    "nw_parameters['hidden_1'] = 50\n",
    "nw_parameters['hidden_2'] = 100\n",
    "nw_parameters['num_classes'] = 1\n"
   ]
  },
  {
   "cell_type": "code",
   "execution_count": 42,
   "metadata": {
    "collapsed": true
   },
   "outputs": [],
   "source": [
    "hyp_parameters = {}\n",
    "hyp_parameters['batch_size'] = 64\n",
    "hyp_parameters['learning_rate'] = 1e-1\n",
    "hyp_parameters['epochs'] = 100\n",
    "hyp_parameters['display_epochs'] = 10\n",
    "\n"
   ]
  },
  {
   "cell_type": "code",
   "execution_count": 38,
   "metadata": {},
   "outputs": [
    {
     "name": "stdout",
     "output_type": "stream",
     "text": [
      "['0.873736397' '0.90255357' '0.927808777' '0.949402346' '0.967249058'\n",
      " '0.98127848' '0.991435244' '0.997679266' '0.999985904' '0.998346054'\n",
      " '0.992766189' '0.983268329' '0.969889958' '0.952683874' '0.931717983'\n",
      " '0.907075026' '0.878852258' '0.847161063' '0.812126509' '0.773886863'\n",
      " '0.73259304' '0.688408006' '0.64150614' '0.592072543' '0.540302306'\n",
      " '0.486399742' '0.430577581' '0.373056127' '0.314062391' '0.253829194'\n",
      " '0.192594249' '0.130599223' '0.068088781' '0.005309624' '-0.057490488'\n",
      " '-0.120063711' '-0.182163097' '-0.243543569' '-0.303962886' '-0.3631826'\n",
      " '-0.420968998' '-0.477094024' '-0.531336178' '-0.583481391' '-0.633323869'\n",
      " '-0.680666907' '-0.725323664' '-0.7671179' '-0.805884672' '-0.841470985']\n",
      "['-0.841470985' '-0.873736397' '-0.90255357' ..., '0.90255357'\n",
      " '0.927808777' '0.949402346']\n"
     ]
    }
   ],
   "source": [
    "def load_data(filename, seq_len, normalise_window=1, tr_te_ratio = 0.9):\n",
    "    f = open(filename, 'r').read()\n",
    "    data = f.split('\\n') #list of 5001 elements\n",
    "    \n",
    "    sequence_length = seq_len + 1\n",
    "    result = []\n",
    "    for index in range(len(data) - sequence_length):\n",
    "        result.append(data[index: index + sequence_length])\n",
    "    \n",
    "    result = np.array(result)\n",
    "    #result is of the form [[x_1.....x_seqence_length], [x_2......x_seqence_length+1]..]\n",
    "    #result is an array of arrays\n",
    "    #shape of result is (len(data) - seqence_length, seqence_length)\n",
    "\n",
    "    row = round(tr_te_ratio * result.shape[0]) #train:test ratio\n",
    "    train = result[:int(row), :]#shape = (row, seqence_length)\n",
    "    #np.random.shuffle(train)\n",
    "    x_train = train[:, :-1] #shape = (4455, 50) (train_size, seq_length)\n",
    "    y_train = train[:, -1] #shape = (4455, ) (train_size, )\n",
    "    x_test = result[int(row):, :-1] #shape = (495, 50) (test_size, seq_length)\n",
    "    y_test = result[int(row):, -1] #shape = (495, 50) (test_size, )\n",
    "    \n",
    "    print(x_train[1])\n",
    "    print(y_train)\n",
    "    x_train = np.reshape(x_train, (x_train.shape[0], x_train.shape[1], 1))\n",
    "    x_test = np.reshape(x_test, (x_test.shape[0], x_test.shape[1], 1))  \n",
    "\n",
    "    return [x_train, y_train, x_test, y_test]\n",
    "lol = load_data(\"sinwave.csv\", 50)"
   ]
  },
  {
   "cell_type": "code",
   "execution_count": 39,
   "metadata": {},
   "outputs": [
    {
     "ename": "SyntaxError",
     "evalue": "invalid syntax (<ipython-input-39-21495c312d66>, line 1)",
     "output_type": "error",
     "traceback": [
      "\u001b[0;36m  File \u001b[0;32m\"<ipython-input-39-21495c312d66>\"\u001b[0;36m, line \u001b[0;32m1\u001b[0m\n\u001b[0;31m    def RNN()\u001b[0m\n\u001b[0m             ^\u001b[0m\n\u001b[0;31mSyntaxError\u001b[0m\u001b[0;31m:\u001b[0m invalid syntax\n"
     ]
    }
   ],
   "source": [
    "\n"
   ]
  },
  {
   "cell_type": "code",
   "execution_count": null,
   "metadata": {},
   "outputs": [],
   "source": []
  },
  {
   "cell_type": "code",
   "execution_count": null,
   "metadata": {},
   "outputs": [],
   "source": []
  },
  {
   "cell_type": "code",
   "execution_count": null,
   "metadata": {
    "collapsed": true
   },
   "outputs": [],
   "source": []
  }
 ],
 "metadata": {
  "kernelspec": {
   "display_name": "Python 3",
   "language": "python",
   "name": "python3"
  },
  "language_info": {
   "codemirror_mode": {
    "name": "ipython",
    "version": 3
   },
   "file_extension": ".py",
   "mimetype": "text/x-python",
   "name": "python",
   "nbconvert_exporter": "python",
   "pygments_lexer": "ipython3",
   "version": "3.4.4"
  }
 },
 "nbformat": 4,
 "nbformat_minor": 2
}
